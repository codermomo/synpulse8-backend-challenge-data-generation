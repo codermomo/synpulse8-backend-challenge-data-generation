{
 "cells": [
  {
   "cell_type": "code",
   "execution_count": 1,
   "metadata": {},
   "outputs": [],
   "source": [
    "num_clients = 10\n",
    "currencies = [\"USD\", \"EUR\", \"GBP\", \"CHF\"]\n",
    "max_num_transaction = 400\n",
    "min_num_transaction = 200\n",
    "start_year = 2013\n",
    "end_year = 2022\n",
    "min_amount = -1000000\n",
    "max_amount = 1000000"
   ]
  },
  {
   "cell_type": "code",
   "execution_count": 2,
   "metadata": {},
   "outputs": [
    {
     "name": "stdout",
     "output_type": "stream",
     "text": [
      "P-0000000010\n"
     ]
    }
   ],
   "source": [
    "client_ids = [f\"P-{i:010d}\" for i in range(1, num_clients+1)]\n",
    "print(client_ids[9])"
   ]
  },
  {
   "cell_type": "code",
   "execution_count": 3,
   "metadata": {},
   "outputs": [
    {
     "name": "stdout",
     "output_type": "stream",
     "text": [
      "Processed data for client from idx 1 to 1\n",
      "Processed data for client from idx 2 to 2\n",
      "Processed data for client from idx 3 to 3\n",
      "Processed data for client from idx 4 to 4\n",
      "Processed data for client from idx 5 to 5\n",
      "Processed data for client from idx 6 to 6\n",
      "Processed data for client from idx 7 to 7\n",
      "Processed data for client from idx 8 to 8\n",
      "Processed data for client from idx 9 to 9\n",
      "Processed data for client from idx 10 to 10\n"
     ]
    }
   ],
   "source": [
    "import random\n",
    "import uuid\n",
    "import datetime\n",
    "import calendar\n",
    "import json\n",
    "\n",
    "batch_size = 1\n",
    "\n",
    "def random_date(year, month):\n",
    "    day = random.randint(1, calendar.monthrange(year, month)[1])\n",
    "    return datetime.datetime(year, month, day)\n",
    "\n",
    "def save(data, filename):\n",
    "    with open(filename, \"w\") as fp:\n",
    "        json.dump(data, fp)\n",
    "\n",
    "for start in range(0, num_clients, batch_size):\n",
    "    first_client_idx = start\n",
    "    last_client_idx = min(start + batch_size - 1, num_clients - 1)\n",
    "    accounts = {}\n",
    "    transactions = {}\n",
    "\n",
    "    for idx in range(first_client_idx+1, last_client_idx+2):\n",
    "        accounts[client_ids[idx-1]] = []\n",
    "        for acc_num in range(random.randint(2, 4)):\n",
    "            IBAN = f\"CH93-0000-0000-{(idx//10000):04d}-{(idx%10000):04d}-{acc_num:01d}\"\n",
    "            cur = currencies[acc_num]\n",
    "            accounts[client_ids[idx-1]] += [{\n",
    "                \"IBAN\": IBAN,\n",
    "                \"currency\": cur,\n",
    "            }]\n",
    "\n",
    "            for year in range(start_year, end_year+1):\n",
    "                for month in range(1, 12+1):\n",
    "                    topic_name = f\"{IBAN}|{year}|{month}\"\n",
    "                    transactions[topic_name] = {}\n",
    "                    for transaction_num in range(random.randint(min_num_transaction, max_num_transaction)):\n",
    "                        transaction_id = str(uuid.uuid4())\n",
    "                        amount = random.randint(min_amount, max_amount)\n",
    "                        date = random_date(year, month)\n",
    "\n",
    "                        transactions[topic_name][transaction_id] = {}\n",
    "                        transactions[topic_name][transaction_id][\"IBAN\"] = IBAN\n",
    "                        transactions[topic_name][transaction_id][\"currency\"] = cur\n",
    "                        transactions[topic_name][transaction_id][\"amount\"] = amount\n",
    "                        transactions[topic_name][transaction_id][\"date\"] = str(date)\n",
    "                        transactions[topic_name][transaction_id][\"description\"] = f\"I earned {amount}!\" if amount >= 0 else f\"I lost {-amount}...\"\n",
    "        \n",
    "        random.shuffle(currencies)\n",
    "    \n",
    "    save(accounts, f\"accounts_{first_client_idx+1}_{last_client_idx+1}.json\")\n",
    "    save(transactions, f\"transactions_{first_client_idx+1}_{last_client_idx+1}.json\")\n",
    "    print(f\"Processed data for client from idx {first_client_idx+1} to {last_client_idx+1}\")\n"
   ]
  },
  {
   "cell_type": "code",
   "execution_count": null,
   "metadata": {},
   "outputs": [],
   "source": []
  }
 ],
 "metadata": {
  "kernelspec": {
   "display_name": "comp4211",
   "language": "python",
   "name": "python3"
  },
  "language_info": {
   "codemirror_mode": {
    "name": "ipython",
    "version": 3
   },
   "file_extension": ".py",
   "mimetype": "text/x-python",
   "name": "python",
   "nbconvert_exporter": "python",
   "pygments_lexer": "ipython3",
   "version": "3.7.13"
  },
  "orig_nbformat": 4,
  "vscode": {
   "interpreter": {
    "hash": "86eed01215236029f71f7f21210a998c6b81e57bfa046489375962dd2cec26ce"
   }
  }
 },
 "nbformat": 4,
 "nbformat_minor": 2
}
